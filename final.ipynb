{
 "cells": [
  {
   "cell_type": "code",
   "execution_count": 104,
   "metadata": {},
   "outputs": [],
   "source": [
    "from selenium import webdriver\n",
    "from selenium.webdriver.firefox.options import Options\n",
    "options = Options()\n",
    "options.binary_location = 'geckodriver'\n",
    "from bs4 import BeautifulSoup\n",
    "import pandas as pd\n",
    "import numpy as np\n",
    "import seaborn as sns\n",
    "\n"
   ]
  },
  {
   "cell_type": "code",
   "execution_count": 105,
   "metadata": {},
   "outputs": [],
   "source": [
    "import time\n",
    "from urllib.request import Request, urlopen\n",
    "from urllib.error import HTTPError\n",
    "\n",
    "base_url = \"https://www.infocasas.com.uy/alquiler/inmuebles/pagina\"\n",
    "\n",
    "total_pages = 50\n",
    "\n",
    "html_base = []\n",
    "\n",
    "max_retries = 3\n",
    "\n",
    "retry_delay = 1\n",
    "\n",
    "for page_number in range(1, total_pages + 1):\n",
    "\n",
    "    # Construye la URL completa para la página actual\n",
    "    url = f\"{base_url}{page_number}\"\n",
    "\n",
    "    request = Request(url)\n",
    "\n",
    "    for retry in range(max_retries):\n",
    "        try:\n",
    "            response = urlopen(request)\n",
    "\n",
    "            html = response.read()\n",
    "\n",
    "            html_base.append(html)\n",
    "\n",
    "            # Hay que cerrar la conexión no seas rata!!!!!\n",
    "            response.close()\n",
    "\n",
    "            break\n",
    "\n",
    "        except HTTPError as e:\n",
    "            print(f\"HTTP Error: {e.code} - {e.reason}\")\n",
    "\n",
    "            time.sleep(retry_delay)\n",
    "\n",
    "            retry_delay *= 2\n",
    "\n",
    "    else:\n",
    "        \n",
    "        print(f\"Maximum number of retries reached for page {page_number}. Request failed.\")\n",
    "\n"
   ]
  },
  {
   "cell_type": "code",
   "execution_count": 106,
   "metadata": {},
   "outputs": [],
   "source": [
    "sopita = []\n",
    "\n",
    "for html in html_base:\n",
    "    soup = BeautifulSoup(html, 'lxml')\n",
    "\n",
    "    sopita.append(soup)"
   ]
  },
  {
   "cell_type": "code",
   "execution_count": 107,
   "metadata": {},
   "outputs": [],
   "source": [
    "    links_array = []\n",
    "\n",
    "    for soup in sopita:\n",
    "        links = soup.find_all('a', class_='lc-cardCover')\n",
    "        links_array.extend(links)"
   ]
  },
  {
   "cell_type": "code",
   "execution_count": 108,
   "metadata": {},
   "outputs": [],
   "source": [
    "urls = [link['href'] for link in links_array]\n",
    "urls = [f\"https://www.infocasas.com.uy{link}\" for link in urls]"
   ]
  },
  {
   "cell_type": "code",
   "execution_count": 109,
   "metadata": {},
   "outputs": [
    {
     "data": {
      "text/plain": [
       "1050"
      ]
     },
     "execution_count": 109,
     "metadata": {},
     "output_type": "execute_result"
    }
   ],
   "source": [
    "len(urls)"
   ]
  },
  {
   "cell_type": "code",
   "execution_count": 110,
   "metadata": {},
   "outputs": [
    {
     "name": "stdout",
     "output_type": "stream",
     "text": [
      "HTTP Error: 404 - Not Found on page 562\n",
      "HTTP Error: 404 - Not Found on page 562\n",
      "HTTP Error: 404 - Not Found on page 562\n",
      "Maximum number of retries reached for page 562. Request failed.\n",
      "HTTP Error: 404 - Not Found on page 897\n",
      "HTTP Error: 404 - Not Found on page 897\n",
      "HTTP Error: 404 - Not Found on page 897\n",
      "Maximum number of retries reached for page 897. Request failed.\n"
     ]
    }
   ],
   "source": [
    "html_data = []\n",
    "\n",
    "max_retries = 3\n",
    "\n",
    "retry_delay = 1\n",
    "\n",
    "for index, url in enumerate(urls, start=1):\n",
    "    request = Request(url)\n",
    "\n",
    "    for retry in range(max_retries):\n",
    "        try:\n",
    "            response = urlopen(request)\n",
    "\n",
    "            html = response.read()\n",
    "\n",
    "            html_data.append(html)\n",
    "\n",
    "            # cerra la conexión dale!!!!\n",
    "            response.close()\n",
    "\n",
    "            break\n",
    "\n",
    "        except HTTPError as e:\n",
    "            print(f\"HTTP Error: {e.code} - {e.reason} on page {index}\")\n",
    "\n",
    "            time.sleep(retry_delay)\n",
    "\n",
    "            # Increase the delay for the next retry\n",
    "            retry_delay *= 2\n",
    "\n",
    "    else:\n",
    "        print(f\"Maximum number of retries reached for page {index}. Request failed.\")\n"
   ]
  },
  {
   "cell_type": "code",
   "execution_count": 111,
   "metadata": {},
   "outputs": [
    {
     "name": "stdout",
     "output_type": "stream",
     "text": [
      "Se obtuvo información de 1048 casas , faltaron 2 .\n"
     ]
    }
   ],
   "source": [
    "print(f\"Se obtuvo información de {len(html_data)} casas , faltaron {len(urls) - len(html_data)} .\")"
   ]
  },
  {
   "cell_type": "code",
   "execution_count": 112,
   "metadata": {},
   "outputs": [],
   "source": [
    "prices = []\n",
    "for html in html_data:\n",
    "    price_element = BeautifulSoup(html, 'lxml').find('span', class_='ant-typography price')\n",
    "    if price_element:\n",
    "        price = price_element.text\n",
    "        prices.append(price)\n",
    "    else:\n",
    "        prices.append('N/A')\n"
   ]
  },
  {
   "cell_type": "code",
   "execution_count": 113,
   "metadata": {},
   "outputs": [],
   "source": [
    "gastos_list = []\n",
    "\n",
    "for html in html_data:\n",
    "    gastos_tags = BeautifulSoup(html, 'lxml').find_all('span', class_='ant-typography ant-typography-secondary commonExpenses')\n",
    "    if gastos_tags:  # Verificar si hay elementos encontrados\n",
    "        gastos_text = ''.join(tag.text for tag in gastos_tags)  # Unir el texto de todos los elementos encontrados\n",
    "        gastos_list.append(gastos_text)\n",
    "    else:\n",
    "        gastos_list.append('0') "
   ]
  },
  {
   "cell_type": "code",
   "execution_count": 114,
   "metadata": {},
   "outputs": [],
   "source": [
    "import json\n",
    "from bs4 import BeautifulSoup\n",
    "\n",
    "casas = []\n",
    "\n",
    "for html_content in html_data:\n",
    "    soup = BeautifulSoup(html_content, 'html.parser')\n",
    "    script_tag = soup.find('script', {'id': '__NEXT_DATA__'})\n",
    "    json_text = script_tag.string if script_tag else '{}'\n",
    "    data = json.loads(json_text)\n",
    "    \n",
    "    if 'props' in data and 'pageProps' in data['props'] and 'apolloState' in data['props']['pageProps']:\n",
    "        property_keys = [key for key in data['props']['pageProps']['apolloState'].keys() if key.startswith('Property:')]\n",
    "        \n",
    "        if property_keys:\n",
    "            technical_sheet = data['props']['pageProps']['apolloState'][property_keys[0]].get('technicalSheet', [])\n",
    "            \n",
    "\n",
    "            formatted_technical_sheet_tuples = [(item['text'], item['value']) for item in technical_sheet]\n",
    "            \n",
    "            casas.append(formatted_technical_sheet_tuples)"
   ]
  },
  {
   "cell_type": "code",
   "execution_count": 115,
   "metadata": {},
   "outputs": [],
   "source": [
    "for i in range(len(casas)):\n",
    "    casas[i].append(('Precio', prices[i]))\n"
   ]
  },
  {
   "cell_type": "code",
   "execution_count": 116,
   "metadata": {},
   "outputs": [],
   "source": [
    "todos_los_nombres = set()\n",
    "for casa in casas:\n",
    "    for nombre, _ in casa:\n",
    "        todos_los_nombres.add(nombre)\n",
    "\n",
    "datos_dict = {}\n",
    "for i, casa in enumerate(casas):\n",
    "    casa_dict = dict(casa)\n",
    "    datos_dict[i] = casa_dict\n",
    "\n",
    "df = pd.DataFrame.from_dict(datos_dict, orient='index')\n",
    "\n",
    "df = df.reindex(sorted(todos_los_nombres), axis=1)\n",
    "\n"
   ]
  },
  {
   "cell_type": "code",
   "execution_count": 117,
   "metadata": {},
   "outputs": [
    {
     "name": "stderr",
     "output_type": "stream",
     "text": [
      "/tmp/ipykernel_2247/3230795436.py:2: FutureWarning: Downcasting behavior in `replace` is deprecated and will be removed in a future version. To retain the old behavior, explicitly call `result.infer_objects(copy=False)`. To opt-in to the future behavior, set `pd.set_option('future.no_silent_downcasting', True)`\n",
      "  df.replace('', np.nan, inplace=True)\n"
     ]
    }
   ],
   "source": [
    "# los nan son strings vacios, los reemplazo por np.nan\n",
    "df.replace('', np.nan, inplace=True)"
   ]
  },
  {
   "cell_type": "code",
   "execution_count": 118,
   "metadata": {},
   "outputs": [],
   "source": [
    "df.drop('Contrato Mínimo', axis=1, inplace=True)\n",
    "df.drop('Acepta mascotas', axis=1, inplace=True)\n",
    "\n"
   ]
  },
  {
   "cell_type": "code",
   "execution_count": 119,
   "metadata": {},
   "outputs": [
    {
     "data": {
      "text/html": [
       "<div>\n",
       "<style scoped>\n",
       "    .dataframe tbody tr th:only-of-type {\n",
       "        vertical-align: middle;\n",
       "    }\n",
       "\n",
       "    .dataframe tbody tr th {\n",
       "        vertical-align: top;\n",
       "    }\n",
       "\n",
       "    .dataframe thead th {\n",
       "        text-align: right;\n",
       "    }\n",
       "</style>\n",
       "<table border=\"1\" class=\"dataframe\">\n",
       "  <thead>\n",
       "    <tr style=\"text-align: right;\">\n",
       "      <th></th>\n",
       "      <th>Apartamentos por Pisos</th>\n",
       "      <th>Año de Construcción</th>\n",
       "      <th>Barrio Privado</th>\n",
       "      <th>Baños</th>\n",
       "      <th>Cantidad de Pisos</th>\n",
       "      <th>Disposición</th>\n",
       "      <th>Dormitorios</th>\n",
       "      <th>Estado</th>\n",
       "      <th>Garajes</th>\n",
       "      <th>Gastos Comunes</th>\n",
       "      <th>...</th>\n",
       "      <th>M² del terreno</th>\n",
       "      <th>M² edificados</th>\n",
       "      <th>Piso</th>\n",
       "      <th>Plantas</th>\n",
       "      <th>Precio</th>\n",
       "      <th>Referencia</th>\n",
       "      <th>Sobre</th>\n",
       "      <th>Tipo de Propiedad</th>\n",
       "      <th>Vivienda Social</th>\n",
       "      <th>Zona</th>\n",
       "    </tr>\n",
       "  </thead>\n",
       "  <tbody>\n",
       "    <tr>\n",
       "      <th>0</th>\n",
       "      <td>NaN</td>\n",
       "      <td>2016</td>\n",
       "      <td>NaN</td>\n",
       "      <td>1</td>\n",
       "      <td>NaN</td>\n",
       "      <td>Al frente</td>\n",
       "      <td>1</td>\n",
       "      <td>Buen estado</td>\n",
       "      <td>1</td>\n",
       "      <td>$ 5.600</td>\n",
       "      <td>...</td>\n",
       "      <td>45 m2</td>\n",
       "      <td>NaN</td>\n",
       "      <td>9</td>\n",
       "      <td>1</td>\n",
       "      <td>$ 32,000</td>\n",
       "      <td>A43C29</td>\n",
       "      <td>No aplica</td>\n",
       "      <td>Apartamento</td>\n",
       "      <td>NaN</td>\n",
       "      <td>Villa Biarritz</td>\n",
       "    </tr>\n",
       "    <tr>\n",
       "      <th>1</th>\n",
       "      <td>NaN</td>\n",
       "      <td>NaN</td>\n",
       "      <td>NaN</td>\n",
       "      <td>4</td>\n",
       "      <td>NaN</td>\n",
       "      <td>No aplica</td>\n",
       "      <td>3</td>\n",
       "      <td>Buen estado</td>\n",
       "      <td>NaN</td>\n",
       "      <td>NaN</td>\n",
       "      <td>...</td>\n",
       "      <td>1.000 m2</td>\n",
       "      <td>NaN</td>\n",
       "      <td>NaN</td>\n",
       "      <td>NaN</td>\n",
       "      <td>U$S 3,950</td>\n",
       "      <td>Z6132A</td>\n",
       "      <td>No aplica</td>\n",
       "      <td>Casa</td>\n",
       "      <td>NaN</td>\n",
       "      <td>La Barra</td>\n",
       "    </tr>\n",
       "    <tr>\n",
       "      <th>2</th>\n",
       "      <td>NaN</td>\n",
       "      <td>NaN</td>\n",
       "      <td>NaN</td>\n",
       "      <td>8</td>\n",
       "      <td>NaN</td>\n",
       "      <td>No aplica</td>\n",
       "      <td>6</td>\n",
       "      <td>Buen estado</td>\n",
       "      <td>NaN</td>\n",
       "      <td>NaN</td>\n",
       "      <td>...</td>\n",
       "      <td>1.100 m2</td>\n",
       "      <td>300 m2</td>\n",
       "      <td>NaN</td>\n",
       "      <td>NaN</td>\n",
       "      <td>U$S 5,500</td>\n",
       "      <td>V8F603</td>\n",
       "      <td>No aplica</td>\n",
       "      <td>Casa</td>\n",
       "      <td>NaN</td>\n",
       "      <td>La Barra</td>\n",
       "    </tr>\n",
       "    <tr>\n",
       "      <th>3</th>\n",
       "      <td>NaN</td>\n",
       "      <td>NaN</td>\n",
       "      <td>NaN</td>\n",
       "      <td>1</td>\n",
       "      <td>10</td>\n",
       "      <td>No aplica</td>\n",
       "      <td>NaN</td>\n",
       "      <td>Sin Definir</td>\n",
       "      <td>1</td>\n",
       "      <td>$ 17.000</td>\n",
       "      <td>...</td>\n",
       "      <td>NaN</td>\n",
       "      <td>110 m2</td>\n",
       "      <td>NaN</td>\n",
       "      <td>1</td>\n",
       "      <td>$ 49,000</td>\n",
       "      <td>H38772</td>\n",
       "      <td>No aplica</td>\n",
       "      <td>Apartamento</td>\n",
       "      <td>NaN</td>\n",
       "      <td>Malvín</td>\n",
       "    </tr>\n",
       "    <tr>\n",
       "      <th>4</th>\n",
       "      <td>NaN</td>\n",
       "      <td>2024</td>\n",
       "      <td>NaN</td>\n",
       "      <td>3</td>\n",
       "      <td>NaN</td>\n",
       "      <td>No aplica</td>\n",
       "      <td>3</td>\n",
       "      <td>A estrenar</td>\n",
       "      <td>NaN</td>\n",
       "      <td>NaN</td>\n",
       "      <td>...</td>\n",
       "      <td>350 m2</td>\n",
       "      <td>210 m2</td>\n",
       "      <td>NaN</td>\n",
       "      <td>1</td>\n",
       "      <td>U$S 4,000</td>\n",
       "      <td>E1FB8C</td>\n",
       "      <td>No aplica</td>\n",
       "      <td>Casa</td>\n",
       "      <td>NaN</td>\n",
       "      <td>Carrasco Barrios con Seguridad</td>\n",
       "    </tr>\n",
       "  </tbody>\n",
       "</table>\n",
       "<p>5 rows × 22 columns</p>\n",
       "</div>"
      ],
      "text/plain": [
       "  Apartamentos por Pisos Año de Construcción  Barrio Privado Baños  \\\n",
       "0                    NaN                2016             NaN     1   \n",
       "1                    NaN                 NaN             NaN     4   \n",
       "2                    NaN                 NaN             NaN     8   \n",
       "3                    NaN                 NaN             NaN     1   \n",
       "4                    NaN                2024             NaN     3   \n",
       "\n",
       "  Cantidad de Pisos Disposición Dormitorios       Estado Garajes  \\\n",
       "0               NaN   Al frente           1  Buen estado       1   \n",
       "1               NaN   No aplica           3  Buen estado     NaN   \n",
       "2               NaN   No aplica           6  Buen estado     NaN   \n",
       "3                10   No aplica         NaN  Sin Definir       1   \n",
       "4               NaN   No aplica           3   A estrenar     NaN   \n",
       "\n",
       "  Gastos Comunes  ... M² del terreno M² edificados Piso Plantas     Precio  \\\n",
       "0        $ 5.600  ...          45 m2           NaN    9       1   $ 32,000   \n",
       "1            NaN  ...       1.000 m2           NaN  NaN     NaN  U$S 3,950   \n",
       "2            NaN  ...       1.100 m2        300 m2  NaN     NaN  U$S 5,500   \n",
       "3       $ 17.000  ...            NaN        110 m2  NaN       1   $ 49,000   \n",
       "4            NaN  ...         350 m2        210 m2  NaN       1  U$S 4,000   \n",
       "\n",
       "  Referencia      Sobre Tipo de Propiedad Vivienda Social  \\\n",
       "0     A43C29  No aplica       Apartamento             NaN   \n",
       "1     Z6132A  No aplica              Casa             NaN   \n",
       "2     V8F603  No aplica              Casa             NaN   \n",
       "3     H38772  No aplica       Apartamento             NaN   \n",
       "4     E1FB8C  No aplica              Casa             NaN   \n",
       "\n",
       "                             Zona  \n",
       "0                  Villa Biarritz  \n",
       "1                        La Barra  \n",
       "2                        La Barra  \n",
       "3                          Malvín  \n",
       "4  Carrasco Barrios con Seguridad  \n",
       "\n",
       "[5 rows x 22 columns]"
      ]
     },
     "execution_count": 119,
     "metadata": {},
     "output_type": "execute_result"
    }
   ],
   "source": [
    "df.head()\n"
   ]
  },
  {
   "cell_type": "code",
   "execution_count": 120,
   "metadata": {},
   "outputs": [],
   "source": [
    "df['M² de terraza'] = df['M² de terraza'].str.extract('(\\d+)').astype(float)\n",
    "df['M² edificados'] = df['M² edificados'].str.extract('(\\d+)').astype(float)\n",
    "df['M² del terreno'] = df['M² del terreno'].str.extract('(\\d+)').astype(float)\n"
   ]
  },
  {
   "cell_type": "code",
   "execution_count": 121,
   "metadata": {},
   "outputs": [],
   "source": [
    "df['Precio'] = df['Precio'].str.replace('.', '')\n",
    "df['Precio'] = df['Precio'].str.replace(',', '')\n",
    "\n",
    "df[['Moneda', 'Monto']] = df['Precio'].str.split(' ', n=1, expand=True)\n",
    "df['Monto'] = df['Monto'].astype(float)\n",
    "df.drop('Precio', axis=1, inplace=True)\n"
   ]
  },
  {
   "cell_type": "code",
   "execution_count": 122,
   "metadata": {},
   "outputs": [],
   "source": [
    "df.loc[df['Moneda'] == 'U$S', 'Monto'] *= 40\n"
   ]
  },
  {
   "cell_type": "code",
   "execution_count": 123,
   "metadata": {},
   "outputs": [],
   "source": [
    "df['Sobre'] = df['Sobre'].replace('No aplica', np.nan)\n",
    "df['Sobre'] = df['Sobre'].replace('Otros', np.nan)\n"
   ]
  },
  {
   "cell_type": "code",
   "execution_count": 124,
   "metadata": {},
   "outputs": [
    {
     "data": {
      "text/plain": [
       "<Axes: xlabel='Moneda', ylabel='Monto'>"
      ]
     },
     "execution_count": 124,
     "metadata": {},
     "output_type": "execute_result"
    },
    {
     "data": {
      "image/png": "[encoded data removed]",
      "text/plain": [
       "<Figure size 640x480 with 1 Axes>"
      ]
     },
     "metadata": {},
     "output_type": "display_data"
    }
   ],
   "source": [
    "sns.boxplot(x='Moneda', y='Monto', data=df)"
   ]
  },
  {
   "cell_type": "code",
   "execution_count": 125,
   "metadata": {},
   "outputs": [
    {
     "data": {
      "text/plain": [
       "<Axes: xlabel='Monto', ylabel='Count'>"
      ]
     },
     "execution_count": 125,
     "metadata": {},
     "output_type": "execute_result"
    },
    {
     "data": {
      "image/png": "[encoded data removed]",
      "text/plain": [
       "<Figure size 640x480 with 1 Axes>"
      ]
     },
     "metadata": {},
     "output_type": "display_data"
    }
   ],
   "source": [
    "sns.histplot(df['Monto'])"
   ]
  },
  {
   "cell_type": "code",
   "execution_count": 126,
   "metadata": {},
   "outputs": [],
   "source": [
    "df['Año de Construcción'] = pd.to_numeric(df['Año de Construcción'], errors='coerce')\n",
    "df['Baños'] = pd.to_numeric(df['Baños'], errors='coerce')\n",
    "df['Dormitorios'] = pd.to_numeric(df['Dormitorios'], errors='coerce')\n",
    "df['Garajes'] = pd.to_numeric(df['Garajes'], errors='coerce')\n",
    "df['Plantas'] = pd.to_numeric(df['Plantas'], errors='coerce')\n",
    "df['Apartamentos por Pisos'] = pd.to_numeric(df['Apartamentos por Pisos'], errors='coerce')\n",
    "df['Piso'] = pd.to_numeric(df['Piso'], errors='coerce')\n",
    "df['Gastos Comunes'] = pd.to_numeric(df['Gastos Comunes'], errors='coerce')\n"
   ]
  },
  {
   "cell_type": "code",
   "execution_count": 127,
   "metadata": {},
   "outputs": [],
   "source": [
    "df = df.drop('Referencia', axis=1)\n"
   ]
  },
  {
   "cell_type": "code",
   "execution_count": 128,
   "metadata": {},
   "outputs": [],
   "source": [
    "df['Sobre'] = df['Sobre'].astype('category')\n",
    "df['Disposición'] = df['Disposición'].astype('category')\n",
    "df['Zona'] = df['Zona'].astype('category')\n",
    "df['Barrio Privado'] = df['Barrio Privado'].astype('category')\n",
    "df['Estado'] = df['Estado'].astype('category')\n",
    "df['Tipo de Propiedad'] = df['Tipo de Propiedad'].astype('category')\n",
    "df['Moneda'] = df['Moneda'].astype('category')\n",
    "df['Vivienda Social'] = df['Vivienda Social'].astype('category')"
   ]
  },
  {
   "cell_type": "code",
   "execution_count": 129,
   "metadata": {},
   "outputs": [],
   "source": [
    "df.to_csv('data.csv', index=False)"
   ]
  }
 ],
 "metadata": {
  "kernelspec": {
   "display_name": "Python 3",
   "language": "python",
   "name": "python3"
  },
  "language_info": {
   "codemirror_mode": {
    "name": "ipython",
    "version": 3
   },
   "file_extension": ".py",
   "mimetype": "text/x-python",
   "name": "python",
   "nbconvert_exporter": "python",
   "pygments_lexer": "ipython3",
   "version": "3.10.13"
  }
 },
 "nbformat": 4,
 "nbformat_minor": 2
}
