{
 "cells": [
  {
   "cell_type": "code",
   "execution_count": 2,
   "metadata": {},
   "outputs": [],
   "source": [
    "from selenium import webdriver\n",
    "from selenium.webdriver.firefox.options import Options\n",
    "options = Options()\n",
    "options.binary_location = 'geckodriver'\n"
   ]
  },
  {
   "cell_type": "code",
   "execution_count": 3,
   "metadata": {},
   "outputs": [],
   "source": [
    "import time\n",
    "from urllib.request import Request, urlopen\n",
    "from urllib.error import HTTPError\n",
    "\n",
    "# Define la URL base\n",
    "base_url = \"https://www.infocasas.com.uy/alquiler/inmuebles/pagina\"\n",
    "\n",
    "# Número total de páginas\n",
    "total_pages = 50\n",
    "\n",
    "# Lista para almacenar el HTML de cada página\n",
    "html_base = []\n",
    "\n",
    "# Set the number of retries\n",
    "max_retries = 3\n",
    "\n",
    "# Set the initial delay between retries\n",
    "retry_delay = 1\n",
    "\n",
    "# Itera sobre todas las páginas\n",
    "for page_number in range(1, total_pages + 1):\n",
    "    # Construye la URL completa para la página actual\n",
    "    url = f\"{base_url}{page_number}\"\n",
    "\n",
    "    # This packages the request\n",
    "    request = Request(url)\n",
    "\n",
    "    # Retry the request for a maximum number of times\n",
    "    for retry in range(max_retries):\n",
    "        try:\n",
    "            # Sends the request and catches the response: response\n",
    "            response = urlopen(request)\n",
    "\n",
    "            # Extract the response: html\n",
    "            html = response.read()\n",
    "\n",
    "            # Agrega el HTML al array html_data\n",
    "            html_base.append(html)\n",
    "\n",
    "            # Be polite and close the response!\n",
    "            response.close()\n",
    "\n",
    "            # Break out of the loop if the request is successful\n",
    "            break\n",
    "\n",
    "        except HTTPError as e:\n",
    "            # Print the error message\n",
    "            print(f\"HTTP Error: {e.code} - {e.reason}\")\n",
    "\n",
    "            # Retry after a delay\n",
    "            time.sleep(retry_delay)\n",
    "\n",
    "            # Increase the delay for the next retry\n",
    "            retry_delay *= 2\n",
    "\n",
    "    else:\n",
    "        # If all retries fail, print an error message\n",
    "        print(f\"Maximum number of retries reached for page {page_number}. Request failed.\")\n",
    "\n"
   ]
  },
  {
   "cell_type": "code",
   "execution_count": 4,
   "metadata": {},
   "outputs": [],
   "source": [
    "from bs4 import BeautifulSoup\n",
    "\n",
    "# Create an empty array to store the processed HTML elements\n",
    "sopita = []\n",
    "\n",
    "# Loop through each html_code element\n",
    "for html in html_base:\n",
    "    soup = BeautifulSoup(html, 'lxml')\n",
    "\n",
    "    sopita.append(soup)"
   ]
  },
  {
   "cell_type": "code",
   "execution_count": 5,
   "metadata": {},
   "outputs": [],
   "source": [
    "    links_array = []\n",
    "\n",
    "    for soup in sopita:\n",
    "        links = soup.find_all('a', class_='lc-cardCover')\n",
    "        links_array.extend(links)"
   ]
  },
  {
   "cell_type": "code",
   "execution_count": 6,
   "metadata": {},
   "outputs": [],
   "source": [
    "urls = [link['href'] for link in links_array]\n",
    "urls = [f\"https://www.infocasas.com.uy{link}\" for link in urls]"
   ]
  },
  {
   "cell_type": "code",
   "execution_count": 7,
   "metadata": {},
   "outputs": [
    {
     "data": {
      "text/plain": [
       "1050"
      ]
     },
     "execution_count": 7,
     "metadata": {},
     "output_type": "execute_result"
    }
   ],
   "source": [
    "len(urls)"
   ]
  },
  {
   "cell_type": "code",
   "execution_count": 8,
   "metadata": {},
   "outputs": [
    {
     "name": "stdout",
     "output_type": "stream",
     "text": [
      "HTTP Error: 504 - Gateway Time-out on page 10\n",
      "HTTP Error: 504 - Gateway Time-out on page 323\n",
      "HTTP Error: 404 - Not Found on page 571\n",
      "HTTP Error: 404 - Not Found on page 571\n",
      "HTTP Error: 404 - Not Found on page 571\n",
      "Maximum number of retries reached for page 571. Request failed.\n",
      "HTTP Error: 404 - Not Found on page 902\n",
      "HTTP Error: 404 - Not Found on page 902\n",
      "HTTP Error: 404 - Not Found on page 902\n",
      "Maximum number of retries reached for page 902. Request failed.\n"
     ]
    }
   ],
   "source": [
    "# Lista para almacenar el HTML de cada página\n",
    "html_data = []\n",
    "\n",
    "# Set the number of retries\n",
    "max_retries = 3\n",
    "\n",
    "# Set the initial delay between retries\n",
    "retry_delay = 1\n",
    "\n",
    "# Asume que `urls` es el arreglo que contiene las URLs completas para hacer las solicitudes\n",
    "# urls = [...]\n",
    "\n",
    "# Itera sobre todas las URLs en el arreglo\n",
    "for index, url in enumerate(urls, start=1):\n",
    "    # This packages the request\n",
    "    request = Request(url)\n",
    "\n",
    "    # Retry the request for a maximum number of times\n",
    "    for retry in range(max_retries):\n",
    "        try:\n",
    "            # Sends the request and catches the response: response\n",
    "            response = urlopen(request)\n",
    "\n",
    "            # Extract the response: html\n",
    "            html = response.read()\n",
    "\n",
    "            # Agrega el HTML al array html_data\n",
    "            html_data.append(html)\n",
    "\n",
    "            # Be polite and close the response!\n",
    "            response.close()\n",
    "\n",
    "            # Break out of the loop if the request is successful\n",
    "            break\n",
    "\n",
    "        except HTTPError as e:\n",
    "            # Print the error message\n",
    "            print(f\"HTTP Error: {e.code} - {e.reason} on page {index}\")\n",
    "\n",
    "            # Retry after a delay\n",
    "            time.sleep(retry_delay)\n",
    "\n",
    "            # Increase the delay for the next retry\n",
    "            retry_delay *= 2\n",
    "\n",
    "    else:\n",
    "        # If all retries fail, print an error message\n",
    "        print(f\"Maximum number of retries reached for page {index}. Request failed.\")\n"
   ]
  },
  {
   "cell_type": "code",
   "execution_count": 9,
   "metadata": {},
   "outputs": [
    {
     "data": {
      "text/plain": [
       "1048"
      ]
     },
     "execution_count": 9,
     "metadata": {},
     "output_type": "execute_result"
    }
   ],
   "source": [
    "len(html_data)"
   ]
  },
  {
   "cell_type": "code",
   "execution_count": 10,
   "metadata": {},
   "outputs": [],
   "source": [
    "prices = []\n",
    "for html in html_data:\n",
    "    price_element = BeautifulSoup(html, 'lxml').find('span', class_='ant-typography price')\n",
    "    if price_element:\n",
    "        price = price_element.text\n",
    "        prices.append(price)\n",
    "    else:\n",
    "        prices.append('N/A')  # Add a placeholder value if the element is not found\n"
   ]
  },
  {
   "cell_type": "code",
   "execution_count": 11,
   "metadata": {},
   "outputs": [],
   "source": [
    "gastos_list = []\n",
    "\n",
    "for html in html_data:\n",
    "    gastos_tags = BeautifulSoup(html, 'lxml').find_all('span', class_='ant-typography ant-typography-secondary commonExpenses')\n",
    "    if gastos_tags:  # Verificar si hay elementos encontrados\n",
    "        gastos_text = ''.join(tag.text for tag in gastos_tags)  # Unir el texto de todos los elementos encontrados\n",
    "        gastos_list.append(gastos_text)\n",
    "    else:\n",
    "        gastos_list.append('0')  # Agregar '0' si no se encontraron elementos"
   ]
  },
  {
   "cell_type": "code",
   "execution_count": 12,
   "metadata": {},
   "outputs": [],
   "source": [
    "import json\n",
    "from bs4 import BeautifulSoup\n",
    "\n",
    "# Initialize an empty list to hold all technical sheets from all HTML contents\n",
    "casas = []\n",
    "\n",
    "# Loop through each HTML content in 'html_data'\n",
    "for html_content in html_data:\n",
    "    soup = BeautifulSoup(html_content, 'html.parser')\n",
    "    script_tag = soup.find('script', {'id': '__NEXT_DATA__'})\n",
    "    json_text = script_tag.string if script_tag else '{}'\n",
    "    data = json.loads(json_text)\n",
    "    \n",
    "    # This checks if 'property_keys' can be found in the data\n",
    "    if 'props' in data and 'pageProps' in data['props'] and 'apolloState' in data['props']['pageProps']:\n",
    "        property_keys = [key for key in data['props']['pageProps']['apolloState'].keys() if key.startswith('Property:')]\n",
    "        \n",
    "        if property_keys:\n",
    "            # Assuming there is at least one property key\n",
    "            technical_sheet = data['props']['pageProps']['apolloState'][property_keys[0]].get('technicalSheet', [])\n",
    "            \n",
    "            # Process the technical sheet to your desired format here\n",
    "            # For example, convert each item to a tuple of (text, value)\n",
    "            formatted_technical_sheet_tuples = [(item['text'], item['value']) for item in technical_sheet]\n",
    "            \n",
    "            # Append the processed technical sheet for this HTML content to the all_technical_sheets list\n",
    "            casas.append(formatted_technical_sheet_tuples)"
   ]
  },
  {
   "cell_type": "code",
   "execution_count": 13,
   "metadata": {},
   "outputs": [],
   "source": [
    "for i in range(len(casas)):\n",
    "    casas[i].append(('Precio', prices[i]))\n"
   ]
  },
  {
   "cell_type": "code",
   "execution_count": 169,
   "metadata": {},
   "outputs": [],
   "source": [
    "import pandas as pd\n",
    "\n",
    "# Suponiendo que casas es una lista de listas, donde cada sublista contiene tuplas (nombre, valor) que representan las características de una casa\n",
    "\n",
    "# Crear un conjunto para almacenar todos los nombres de características encontrados en todas las casas\n",
    "todos_los_nombres = set()\n",
    "for casa in casas:\n",
    "    for nombre, _ in casa:\n",
    "        todos_los_nombres.add(nombre)\n",
    "\n",
    "# Crear un diccionario para almacenar los valores de las características para cada casa\n",
    "datos_dict = {}\n",
    "for i, casa in enumerate(casas):\n",
    "    casa_dict = dict(casa)\n",
    "    datos_dict[i] = casa_dict\n",
    "\n",
    "# Crear el DataFrame\n",
    "df = pd.DataFrame.from_dict(datos_dict, orient='index')\n",
    "\n",
    "# Ordenar las columnas por los nombres de características\n",
    "df = df.reindex(sorted(todos_los_nombres), axis=1)\n",
    "\n",
    "# Imprimir el DataFrame\n"
   ]
  },
  {
   "cell_type": "code",
   "execution_count": 170,
   "metadata": {},
   "outputs": [],
   "source": [
    "df.drop('Contrato Mínimo', axis=1, inplace=True)\n",
    "df.drop('Acepta mascotas', axis=1, inplace=True)\n",
    "\n"
   ]
  },
  {
   "cell_type": "code",
   "execution_count": 171,
   "metadata": {},
   "outputs": [
    {
     "data": {
      "text/html": [
       "<div>\n",
       "<style scoped>\n",
       "    .dataframe tbody tr th:only-of-type {\n",
       "        vertical-align: middle;\n",
       "    }\n",
       "\n",
       "    .dataframe tbody tr th {\n",
       "        vertical-align: top;\n",
       "    }\n",
       "\n",
       "    .dataframe thead th {\n",
       "        text-align: right;\n",
       "    }\n",
       "</style>\n",
       "<table border=\"1\" class=\"dataframe\">\n",
       "  <thead>\n",
       "    <tr style=\"text-align: right;\">\n",
       "      <th></th>\n",
       "      <th>Apartamentos por Pisos</th>\n",
       "      <th>Año de Construcción</th>\n",
       "      <th>Barrio Privado</th>\n",
       "      <th>Baños</th>\n",
       "      <th>Cantidad de Pisos</th>\n",
       "      <th>Disposición</th>\n",
       "      <th>Dormitorios</th>\n",
       "      <th>Estado</th>\n",
       "      <th>Garajes</th>\n",
       "      <th>Gastos Comunes</th>\n",
       "      <th>...</th>\n",
       "      <th>M² del terreno</th>\n",
       "      <th>M² edificados</th>\n",
       "      <th>Piso</th>\n",
       "      <th>Plantas</th>\n",
       "      <th>Precio</th>\n",
       "      <th>Referencia</th>\n",
       "      <th>Sobre</th>\n",
       "      <th>Tipo de Propiedad</th>\n",
       "      <th>Vivienda Social</th>\n",
       "      <th>Zona</th>\n",
       "    </tr>\n",
       "  </thead>\n",
       "  <tbody>\n",
       "    <tr>\n",
       "      <th>0</th>\n",
       "      <td>NaN</td>\n",
       "      <td></td>\n",
       "      <td></td>\n",
       "      <td>4</td>\n",
       "      <td>NaN</td>\n",
       "      <td>No aplica</td>\n",
       "      <td>3</td>\n",
       "      <td>Buen estado</td>\n",
       "      <td></td>\n",
       "      <td>NaN</td>\n",
       "      <td>...</td>\n",
       "      <td>1.000 m2</td>\n",
       "      <td></td>\n",
       "      <td>NaN</td>\n",
       "      <td></td>\n",
       "      <td>U$S 4,200</td>\n",
       "      <td>Z6132A</td>\n",
       "      <td>No aplica</td>\n",
       "      <td>Casa</td>\n",
       "      <td></td>\n",
       "      <td>La Barra</td>\n",
       "    </tr>\n",
       "    <tr>\n",
       "      <th>1</th>\n",
       "      <td>NaN</td>\n",
       "      <td></td>\n",
       "      <td></td>\n",
       "      <td>8</td>\n",
       "      <td>NaN</td>\n",
       "      <td>No aplica</td>\n",
       "      <td>6</td>\n",
       "      <td>Buen estado</td>\n",
       "      <td></td>\n",
       "      <td>NaN</td>\n",
       "      <td>...</td>\n",
       "      <td>1.100 m2</td>\n",
       "      <td>300 m2</td>\n",
       "      <td>NaN</td>\n",
       "      <td></td>\n",
       "      <td>U$S 5,500</td>\n",
       "      <td>V8F603</td>\n",
       "      <td>No aplica</td>\n",
       "      <td>Casa</td>\n",
       "      <td></td>\n",
       "      <td>La Barra</td>\n",
       "    </tr>\n",
       "    <tr>\n",
       "      <th>2</th>\n",
       "      <td></td>\n",
       "      <td></td>\n",
       "      <td></td>\n",
       "      <td>1</td>\n",
       "      <td>10</td>\n",
       "      <td>No aplica</td>\n",
       "      <td></td>\n",
       "      <td>Sin Definir</td>\n",
       "      <td>1</td>\n",
       "      <td>$ 17.000</td>\n",
       "      <td>...</td>\n",
       "      <td></td>\n",
       "      <td>110 m2</td>\n",
       "      <td></td>\n",
       "      <td>1</td>\n",
       "      <td>$ 49,000</td>\n",
       "      <td>H38772</td>\n",
       "      <td>No aplica</td>\n",
       "      <td>Apartamento</td>\n",
       "      <td></td>\n",
       "      <td>Malvín</td>\n",
       "    </tr>\n",
       "  </tbody>\n",
       "</table>\n",
       "<p>3 rows × 22 columns</p>\n",
       "</div>"
      ],
      "text/plain": [
       "  Apartamentos por Pisos Año de Construcción Barrio Privado Baños  \\\n",
       "0                    NaN                                        4   \n",
       "1                    NaN                                        8   \n",
       "2                                                               1   \n",
       "\n",
       "  Cantidad de Pisos Disposición Dormitorios       Estado Garajes  \\\n",
       "0               NaN   No aplica           3  Buen estado           \n",
       "1               NaN   No aplica           6  Buen estado           \n",
       "2                10   No aplica              Sin Definir       1   \n",
       "\n",
       "  Gastos Comunes  ... M² del terreno M² edificados Piso Plantas     Precio  \\\n",
       "0            NaN  ...       1.000 m2                NaN          U$S 4,200   \n",
       "1            NaN  ...       1.100 m2        300 m2  NaN          U$S 5,500   \n",
       "2       $ 17.000  ...                       110 m2            1   $ 49,000   \n",
       "\n",
       "  Referencia      Sobre Tipo de Propiedad Vivienda Social      Zona  \n",
       "0     Z6132A  No aplica              Casa                  La Barra  \n",
       "1     V8F603  No aplica              Casa                  La Barra  \n",
       "2     H38772  No aplica       Apartamento                    Malvín  \n",
       "\n",
       "[3 rows x 22 columns]"
      ]
     },
     "execution_count": 171,
     "metadata": {},
     "output_type": "execute_result"
    }
   ],
   "source": [
    "import numpy as np\n",
    "df.head(3)\n"
   ]
  },
  {
   "cell_type": "code",
   "execution_count": 172,
   "metadata": {},
   "outputs": [],
   "source": [
    "df['M² de terraza'] = df['M² de terraza'].str.extract('(\\d+)').astype(float)\n",
    "df['M² edificados'] = df['M² edificados'].str.extract('(\\d+)').astype(float)\n",
    "df['M² del terreno'] = df['M² del terreno'].str.extract('(\\d+)').astype(float)\n"
   ]
  },
  {
   "cell_type": "code",
   "execution_count": 173,
   "metadata": {},
   "outputs": [],
   "source": [
    "df['Precio'] = df['Precio'].str.replace('.', '')\n",
    "df['Precio'] = df['Precio'].str.replace(',', '')\n",
    "\n",
    "df[['Moneda', 'Monto']] = df['Precio'].str.split(' ', n=1, expand=True)\n",
    "df['Monto'] = df['Monto'].astype(float)\n",
    "df.drop('Precio', axis=1, inplace=True)\n"
   ]
  },
  {
   "cell_type": "code",
   "execution_count": 174,
   "metadata": {},
   "outputs": [],
   "source": [
    "df.loc[df['Moneda'] == 'U$S', 'Monto'] *= 40\n"
   ]
  },
  {
   "cell_type": "code",
   "execution_count": 175,
   "metadata": {},
   "outputs": [],
   "source": [
    "import pandas as pd\n",
    "\n",
    "# Supongamos que df es tu DataFrame y 'Monto' es la columna de interés\n",
    "\n",
    "# Calculamos el primer y tercer cuartil\n",
    "Q1 = df['Monto'].quantile(0.25)\n",
    "Q3 = df['Monto'].quantile(0.75)\n",
    "IQR = Q3 - Q1\n",
    "\n",
    "# Definimos los límites para considerar un dato como outlier\n",
    "limite_inferior = Q1 - 1.5 * IQR\n",
    "limite_superior = Q3 + 1.5 * IQR\n",
    "\n",
    "# Identificamos los outliers\n",
    "outliers = df[(df['Monto'] < limite_inferior) | (df['Monto'] > limite_superior)]\n",
    "\n",
    "# Eliminamos los outliers del DataFrame original\n",
    "df = df[(df['Monto'] >= limite_inferior) & (df['Monto'] <= limite_superior)]\n"
   ]
  },
  {
   "cell_type": "code",
   "execution_count": 176,
   "metadata": {},
   "outputs": [
    {
     "data": {
      "text/plain": [
       "<Axes: xlabel='Moneda', ylabel='Monto'>"
      ]
     },
     "execution_count": 176,
     "metadata": {},
     "output_type": "execute_result"
    },
    {
     "data": {
      "image/png": "[encoded data removed]",
      "text/plain": [
       "<Figure size 640x480 with 1 Axes>"
      ]
     },
     "metadata": {},
     "output_type": "display_data"
    }
   ],
   "source": [
    "import seaborn as sns\n",
    "\n",
    "sns.boxplot(x='Moneda', y='Monto', data=df)"
   ]
  },
  {
   "cell_type": "code",
   "execution_count": 148,
   "metadata": {},
   "outputs": [
    {
     "data": {
      "text/plain": [
       "<Axes: xlabel='Monto', ylabel='Count'>"
      ]
     },
     "execution_count": 148,
     "metadata": {},
     "output_type": "execute_result"
    },
    {
     "data": {
      "image/png": "[encoded data removed]",
      "text/plain": [
       "<Figure size 640x480 with 1 Axes>"
      ]
     },
     "metadata": {},
     "output_type": "display_data"
    }
   ],
   "source": [
    "sns.histplot(df['Monto'], kde=True)"
   ]
  },
  {
   "cell_type": "code",
   "execution_count": 177,
   "metadata": {},
   "outputs": [],
   "source": [
    "df['Año de Construcción'] = df['Año de Construcción'].replace('¡Preguntale!\t', np.nan)\n",
    "df['Año de Construcción'] = pd.to_numeric(df['Año de Construcción'], errors='coerce')\n"
   ]
  },
  {
   "cell_type": "code",
   "execution_count": null,
   "metadata": {},
   "outputs": [],
   "source": [
    "\n"
   ]
  },
  {
   "cell_type": "code",
   "execution_count": 178,
   "metadata": {},
   "outputs": [],
   "source": [
    "df['Baños'] = pd.to_numeric(df['Baños'], errors='coerce')\n",
    "df['Dormitorios'] = pd.to_numeric(df['Dormitorios'], errors='coerce')\n"
   ]
  },
  {
   "cell_type": "code",
   "execution_count": 179,
   "metadata": {},
   "outputs": [],
   "source": [
    "df['Garajes'] = df['Garajes'].replace('¡Preguntale!', np.nan)\n",
    "df['Garajes'] = pd.to_numeric(df['Garajes'], errors='coerce')"
   ]
  },
  {
   "cell_type": "code",
   "execution_count": 180,
   "metadata": {},
   "outputs": [],
   "source": [
    "df['Plantas'] = df['Plantas'].replace('¡Preguntale!', np.nan)\n",
    "df['Plantas'] = pd.to_numeric(df['Plantas'], errors='coerce')"
   ]
  },
  {
   "cell_type": "code",
   "execution_count": 181,
   "metadata": {},
   "outputs": [],
   "source": [
    "df = df.drop('Referencia', axis=1)\n"
   ]
  },
  {
   "cell_type": "code",
   "execution_count": 182,
   "metadata": {},
   "outputs": [],
   "source": [
    "df['Apartamentos por Pisos'] = df['Apartamentos por Pisos'].replace('¡Preguntale!', np.nan)\n",
    "df['Apartamentos por Pisos'] = pd.to_numeric(df['Apartamentos por Pisos'], errors='coerce')\n"
   ]
  },
  {
   "cell_type": "code",
   "execution_count": 183,
   "metadata": {},
   "outputs": [],
   "source": [
    "df['Piso'] = df['Piso'].replace('¡Preguntale!', np.nan)\n",
    "df['Piso'] = pd.to_numeric(df['Piso'], errors='coerce')"
   ]
  },
  {
   "cell_type": "code",
   "execution_count": 184,
   "metadata": {},
   "outputs": [],
   "source": [
    "df['Gastos Comunes'] = df['Gastos Comunes'].replace('¡Preguntale!', np.nan)\n",
    "df['Gastos Comunes'] = pd.to_numeric(df['Gastos Comunes'], errors='coerce')"
   ]
  },
  {
   "cell_type": "code",
   "execution_count": 185,
   "metadata": {},
   "outputs": [],
   "source": [
    "df['Sobre'] = df['Sobre'].replace('¡Preguntale!', np.nan)\n",
    "df['Disposición'] = df['Disposición'].replace('¡Preguntale!', np.nan)\n",
    "df['Zona'] = df['Zona'].replace('¡Preguntale!', np.nan)\n",
    "df['Barrio Privado'] = df['Barrio Privado'].replace('¡Preguntale!', np.nan)\n",
    "df['Estado'] = df['Estado'].replace('¡Preguntale!', np.nan)\n",
    "df['Tipo de Propiedad'] = df['Tipo de Propiedad'].replace('¡Preguntale!', np.nan)\n",
    "df['Moneda'] = df['Moneda'].replace('¡Preguntale!', np.nan)\n",
    "df['Vivienda Social'] = df['Vivienda Social'].replace('¡Preguntale!', np.nan)\n",
    "\n",
    "\n"
   ]
  },
  {
   "cell_type": "code",
   "execution_count": 186,
   "metadata": {},
   "outputs": [
    {
     "name": "stderr",
     "output_type": "stream",
     "text": [
      "/tmp/ipykernel_1591/417536218.py:7: FutureWarning: Downcasting object dtype arrays on .fillna, .ffill, .bfill is deprecated and will change in a future version. Call result.infer_objects(copy=False) instead. To opt-in to the future behavior, set `pd.set_option('future.no_silent_downcasting', True)`\n",
      "  df['Hectáreas'] = df['Hectáreas'].fillna(0)\n"
     ]
    }
   ],
   "source": [
    "df = df.drop('Gastos Comunes', axis=1)\n",
    "\n",
    "df = df.dropna(subset=['M² edificados', 'Dormitorios'])\n",
    "\n",
    "df['Garajes'] = df['Garajes'].fillna(0)\n",
    "\n",
    "df['Hectáreas'] = df['Hectáreas'].fillna(0)\n",
    "\n",
    "df['M² del terreno'] = df['M² del terreno'].fillna(df['M² edificados'])\n",
    "\n"
   ]
  },
  {
   "cell_type": "code",
   "execution_count": 187,
   "metadata": {},
   "outputs": [],
   "source": [
    "df['Sobre'] = df['Sobre'].astype('category')\n",
    "df['Disposición'] = df['Disposición'].astype('category')\n",
    "df['Zona'] = df['Zona'].astype('category')\n",
    "df['Barrio Privado'] = df['Barrio Privado'].astype('category')\n",
    "df['Estado'] = df['Estado'].astype('category')\n",
    "df['Tipo de Propiedad'] = df['Tipo de Propiedad'].astype('category')\n",
    "df['Moneda'] = df['Moneda'].astype('category')\n",
    "df['Vivienda Social'] = df['Vivienda Social'].astype('category')"
   ]
  },
  {
   "cell_type": "code",
   "execution_count": 188,
   "metadata": {},
   "outputs": [
    {
     "name": "stderr",
     "output_type": "stream",
     "text": [
      "/tmp/ipykernel_1591/4024892262.py:23: FutureWarning: A value is trying to be set on a copy of a DataFrame or Series through chained assignment using an inplace method.\n",
      "The behavior will change in pandas 3.0. This inplace method will never work because the intermediate object on which we are setting values always behaves as a copy.\n",
      "\n",
      "For example, when doing 'df[col].method(value, inplace=True)', try using 'df.method({col: value}, inplace=True)' or df[col] = df[col].method(value) instead, to perform the operation inplace on the original object.\n",
      "\n",
      "\n",
      "  df_selected[feature].fillna(df_selected[feature].median(), inplace=True)\n",
      "/tmp/ipykernel_1591/4024892262.py:23: SettingWithCopyWarning: \n",
      "A value is trying to be set on a copy of a slice from a DataFrame\n",
      "\n",
      "See the caveats in the documentation: https://pandas.pydata.org/pandas-docs/stable/user_guide/indexing.html#returning-a-view-versus-a-copy\n",
      "  df_selected[feature].fillna(df_selected[feature].median(), inplace=True)\n",
      "/tmp/ipykernel_1591/4024892262.py:23: FutureWarning: A value is trying to be set on a copy of a DataFrame or Series through chained assignment using an inplace method.\n",
      "The behavior will change in pandas 3.0. This inplace method will never work because the intermediate object on which we are setting values always behaves as a copy.\n",
      "\n",
      "For example, when doing 'df[col].method(value, inplace=True)', try using 'df.method({col: value}, inplace=True)' or df[col] = df[col].method(value) instead, to perform the operation inplace on the original object.\n",
      "\n",
      "\n",
      "  df_selected[feature].fillna(df_selected[feature].median(), inplace=True)\n",
      "/tmp/ipykernel_1591/4024892262.py:23: SettingWithCopyWarning: \n",
      "A value is trying to be set on a copy of a slice from a DataFrame\n",
      "\n",
      "See the caveats in the documentation: https://pandas.pydata.org/pandas-docs/stable/user_guide/indexing.html#returning-a-view-versus-a-copy\n",
      "  df_selected[feature].fillna(df_selected[feature].median(), inplace=True)\n",
      "/tmp/ipykernel_1591/4024892262.py:23: FutureWarning: A value is trying to be set on a copy of a DataFrame or Series through chained assignment using an inplace method.\n",
      "The behavior will change in pandas 3.0. This inplace method will never work because the intermediate object on which we are setting values always behaves as a copy.\n",
      "\n",
      "For example, when doing 'df[col].method(value, inplace=True)', try using 'df.method({col: value}, inplace=True)' or df[col] = df[col].method(value) instead, to perform the operation inplace on the original object.\n",
      "\n",
      "\n",
      "  df_selected[feature].fillna(df_selected[feature].median(), inplace=True)\n",
      "/tmp/ipykernel_1591/4024892262.py:23: SettingWithCopyWarning: \n",
      "A value is trying to be set on a copy of a slice from a DataFrame\n",
      "\n",
      "See the caveats in the documentation: https://pandas.pydata.org/pandas-docs/stable/user_guide/indexing.html#returning-a-view-versus-a-copy\n",
      "  df_selected[feature].fillna(df_selected[feature].median(), inplace=True)\n",
      "/tmp/ipykernel_1591/4024892262.py:23: FutureWarning: A value is trying to be set on a copy of a DataFrame or Series through chained assignment using an inplace method.\n",
      "The behavior will change in pandas 3.0. This inplace method will never work because the intermediate object on which we are setting values always behaves as a copy.\n",
      "\n",
      "For example, when doing 'df[col].method(value, inplace=True)', try using 'df.method({col: value}, inplace=True)' or df[col] = df[col].method(value) instead, to perform the operation inplace on the original object.\n",
      "\n",
      "\n",
      "  df_selected[feature].fillna(df_selected[feature].median(), inplace=True)\n",
      "/tmp/ipykernel_1591/4024892262.py:23: SettingWithCopyWarning: \n",
      "A value is trying to be set on a copy of a slice from a DataFrame\n",
      "\n",
      "See the caveats in the documentation: https://pandas.pydata.org/pandas-docs/stable/user_guide/indexing.html#returning-a-view-versus-a-copy\n",
      "  df_selected[feature].fillna(df_selected[feature].median(), inplace=True)\n"
     ]
    }
   ],
   "source": [
    "import pandas as pd\n",
    "\n",
    "# Asumiendo que df es tu DataFrame completo\n",
    "\n",
    "# Lista de características seleccionadas basadas en la descripción anterior\n",
    "features = [\n",
    "    'Baños', \n",
    "    'Dormitorios', \n",
    "    'Garajes', \n",
    "    'M² edificados', \n",
    "    'Tipo de Propiedad', \n",
    "    'Zona',  # Asumiendo que esto representa la ubicación general\n",
    "    'Estado',\n",
    "    # 'Monto' solo se incluiría si es una característica en lugar de la variable objetivo\n",
    "]\n",
    "\n",
    "# Seleccionar solo las columnas relevantes en el DataFrame\n",
    "df_selected = df[features + ['Monto']]  # Asegúrate de incluir la variable objetivo aquí\n",
    "\n",
    "\n",
    "# Rellenar valores faltantes para variables numéricas con la mediana\n",
    "for feature in ['Baños', 'Dormitorios', 'Garajes', 'M² edificados']:\n",
    "    df_selected[feature].fillna(df_selected[feature].median(), inplace=True)\n"
   ]
  },
  {
   "cell_type": "code",
   "execution_count": 190,
   "metadata": {},
   "outputs": [
    {
     "data": {
      "text/plain": [
       "Baños                 float64\n",
       "Dormitorios           float64\n",
       "Garajes               float64\n",
       "M² edificados         float64\n",
       "Tipo de Propiedad    category\n",
       "Zona                 category\n",
       "Estado               category\n",
       "Monto                 float64\n",
       "dtype: object"
      ]
     },
     "execution_count": 190,
     "metadata": {},
     "output_type": "execute_result"
    }
   ],
   "source": [
    "df_selected.dtypes"
   ]
  },
  {
   "cell_type": "code",
   "execution_count": 203,
   "metadata": {},
   "outputs": [],
   "source": [
    "df_dummies = pd.get_dummies(df_selected, columns=['Tipo de Propiedad', 'Zona', 'Estado'], drop_first=True)"
   ]
  },
  {
   "cell_type": "code",
   "execution_count": 198,
   "metadata": {},
   "outputs": [
    {
     "data": {
      "text/plain": [
       "<Axes: xlabel='Dormitorios', ylabel='Count'>"
      ]
     },
     "execution_count": 198,
     "metadata": {},
     "output_type": "execute_result"
    },
    {
     "data": {
      "image/png": "[encoded data removed]",
      "text/plain": [
       "<Figure size 640x480 with 1 Axes>"
      ]
     },
     "metadata": {},
     "output_type": "display_data"
    }
   ],
   "source": [
    "sns.histplot(df_selected['Dormitorios'], kde=True)"
   ]
  },
  {
   "cell_type": "code",
   "execution_count": 214,
   "metadata": {},
   "outputs": [],
   "source": [
    "X = df_selected.drop('Monto', axis=1)  # Características: todo menos 'Monto'\n",
    "y = df_selected['Monto']  # Variable objetivo\n",
    "\n",
    "# Dividir los datos en conjuntos de entrenamiento y prueba\n",
    "X_train, X_test, y_train, y_test = train_test_split(X, y, test_size=0.2, random_state=42)\n"
   ]
  },
  {
   "cell_type": "code",
   "execution_count": 217,
   "metadata": {},
   "outputs": [],
   "source": [
    "df_selected.to_csv('casas.csv', index=False)"
   ]
  }
 ],
 "metadata": {
  "kernelspec": {
   "display_name": "Python 3",
   "language": "python",
   "name": "python3"
  },
  "language_info": {
   "codemirror_mode": {
    "name": "ipython",
    "version": 3
   },
   "file_extension": ".py",
   "mimetype": "text/x-python",
   "name": "python",
   "nbconvert_exporter": "python",
   "pygments_lexer": "ipython3",
   "version": "3.10.13"
  }
 },
 "nbformat": 4,
 "nbformat_minor": 2
}
